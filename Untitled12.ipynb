{
  "nbformat": 4,
  "nbformat_minor": 0,
  "metadata": {
    "colab": {
      "provenance": [],
      "authorship_tag": "ABX9TyNjB8HP8HyuwFWWRtQNTdsg"
    },
    "kernelspec": {
      "name": "python3",
      "display_name": "Python 3"
    },
    "language_info": {
      "name": "python"
    }
  },
  "cells": [
    {
      "cell_type": "code",
      "execution_count": 1,
      "metadata": {
        "colab": {
          "base_uri": "https://localhost:8080/"
        },
        "id": "anzAHuPRJ0RX",
        "outputId": "4207b4d3-deeb-47f3-f694-8baafc5711df"
      },
      "outputs": [
        {
          "output_type": "stream",
          "name": "stdout",
          "text": [
            "Hello, World!\n"
          ]
        }
      ],
      "source": [
        "# Simple Hello World program in Python\n",
        "\n",
        "def main():\n",
        "    print(\"Hello, World!\")\n",
        "\n",
        "if __name__ == \"__main__\":\n",
        "    main()"
      ]
    },
    {
      "cell_type": "code",
      "source": [
        "# prompt: after saying hello world, report the price of TSLA, MSTR, and BTC\n",
        "\n",
        "# Simple Hello World program in Python\n",
        "import yfinance as yf\n",
        "\n",
        "def main():\n",
        "    print(\"Hello, World!\")\n",
        "\n",
        "    tickers = [\"TSLA\", \"MSTR\", \"BTC-USD\"]\n",
        "    for ticker in tickers:\n",
        "        try:\n",
        "          data = yf.download(tickers=ticker, period=\"1d\")\n",
        "          price = data[\"Close\"][0]\n",
        "          print(f\"The price of {ticker} is: {price}\")\n",
        "        except Exception as e:\n",
        "          print(f\"Error fetching data for {ticker}: {e}\")\n",
        "\n",
        "if __name__ == \"__main__\":\n",
        "    main()\n"
      ],
      "metadata": {
        "colab": {
          "base_uri": "https://localhost:8080/"
        },
        "id": "ZhlMMvU3KwSA",
        "outputId": "6b0f4bf5-bfec-4917-9203-94036c47c075"
      },
      "execution_count": 2,
      "outputs": [
        {
          "output_type": "stream",
          "name": "stdout",
          "text": [
            "Hello, World!\n",
            "YF.download() has changed argument auto_adjust default to True\n"
          ]
        },
        {
          "output_type": "stream",
          "name": "stderr",
          "text": [
            "[*********************100%***********************]  1 of 1 completed\n",
            "[*********************100%***********************]  1 of 1 completed\n"
          ]
        },
        {
          "output_type": "stream",
          "name": "stdout",
          "text": [
            "Error fetching data for TSLA: 0\n",
            "Error fetching data for MSTR: 0\n"
          ]
        },
        {
          "output_type": "stream",
          "name": "stderr",
          "text": [
            "\r[*********************100%***********************]  1 of 1 completed"
          ]
        },
        {
          "output_type": "stream",
          "name": "stdout",
          "text": [
            "Error fetching data for BTC-USD: 0\n"
          ]
        },
        {
          "output_type": "stream",
          "name": "stderr",
          "text": [
            "\n"
          ]
        }
      ]
    }
  ]
}